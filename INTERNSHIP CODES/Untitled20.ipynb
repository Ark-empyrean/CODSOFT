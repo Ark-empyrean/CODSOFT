{
 "cells": [
  {
   "cell_type": "code",
   "execution_count": null,
   "id": "b68fa2f2-0b66-4920-ad79-96551d2c1967",
   "metadata": {},
   "outputs": [],
   "source": [
    "# CODSOFT INTERNSHIP PROJECT"
   ]
  },
  {
   "cell_type": "code",
   "execution_count": null,
   "id": "d01c12eb-838b-46b7-845d-17c2f2705e33",
   "metadata": {},
   "outputs": [],
   "source": [
    "# PASSWORD GENERATOR"
   ]
  },
  {
   "cell_type": "code",
   "execution_count": 20,
   "id": "84c04481-2caa-4301-8f74-dc51c40efb81",
   "metadata": {},
   "outputs": [],
   "source": [
    "from tkinter import *\n",
    "import string\n",
    "import random\n",
    "\n",
    "def generator():\n",
    "    small_alphabets = string.ascii_lowercase\n",
    "    capital_alphabets = string.ascii_uppercase\n",
    "    numbers = string.digits\n",
    "    special_characters = string.punctuation\n",
    "\n",
    "    all_characters = small_alphabets + capital_alphabets + numbers + special_characters\n",
    "    password_length = int(length_Box.get())\n",
    "\n",
    "    passwordField.delete(0, 'end')  # Clear the entry field before inserting the generated password\n",
    "\n",
    "    if choice.get() == 1:\n",
    "        generated_password = ''.join(random.sample(small_alphabets, password_length))\n",
    "    elif choice.get() == 2:\n",
    "        generated_password = ''.join(random.sample(small_alphabets + capital_alphabets, password_length))\n",
    "    elif choice.get() == 3:\n",
    "        generated_password = ''.join(random.sample(all_characters, password_length))\n",
    "\n",
    "    passwordField.insert(0, generated_password)\n",
    "\n",
    "def copy():\n",
    "    root.clipboard_clear()\n",
    "    root.clipboard_append(passwordField.get())\n",
    "    root.update()\n",
    "\n",
    "root = Tk()\n",
    "root.config(bg='gray20')\n",
    "choice = IntVar()\n",
    "Font = ('arial', 13, 'bold')\n",
    "\n",
    "passwordLabel = Label(root, text='Password Generator', font=('times new roman', 20, 'bold'), bg='red', fg='white')\n",
    "passwordLabel.grid(pady=10)\n",
    "\n",
    "weakRadioButton = Radiobutton(root, text='Weak', value=1, variable=choice, font=Font)\n",
    "weakRadioButton.grid(pady=5)\n",
    "\n",
    "mediumRadioButton = Radiobutton(root, text='Medium', value=2, variable=choice, font=Font)\n",
    "mediumRadioButton.grid(pady=5)\n",
    "\n",
    "strongRadioButton = Radiobutton(root, text='Strong', value=3, variable=choice, font=Font)\n",
    "strongRadioButton.grid(pady=5)\n",
    "\n",
    "lengthLabel = Label(root, text='Password Length', font=Font, bg='orange', fg='black')\n",
    "lengthLabel.grid(pady=5)\n",
    "\n",
    "length_Box = Spinbox(root, from_=0, to_=18, width=5, font=Font)\n",
    "length_Box.grid(pady=5)\n",
    "\n",
    "generateButton = Button(root, text='Generate', font=Font, command=generator)\n",
    "generateButton.grid(pady=5)\n",
    "\n",
    "passwordField = Entry(root, width=25, bd=2, font=Font)\n",
    "passwordField.grid()\n",
    "\n",
    "copyButton = Button(root, text='Copy', font=Font,  bg='blue', fg='yellow',command=copy)\n",
    "copyButton.grid(pady=5)\n",
    "\n",
    "root.mainloop()\n"
   ]
  },
  {
   "cell_type": "code",
   "execution_count": null,
   "id": "4046e30e-7b06-41ae-9f23-26efc0266e6b",
   "metadata": {},
   "outputs": [],
   "source": []
  }
 ],
 "metadata": {
  "kernelspec": {
   "display_name": "Python 3 (ipykernel)",
   "language": "python",
   "name": "python3"
  },
  "language_info": {
   "codemirror_mode": {
    "name": "ipython",
    "version": 3
   },
   "file_extension": ".py",
   "mimetype": "text/x-python",
   "name": "python",
   "nbconvert_exporter": "python",
   "pygments_lexer": "ipython3",
   "version": "3.11.7"
  }
 },
 "nbformat": 4,
 "nbformat_minor": 5
}
